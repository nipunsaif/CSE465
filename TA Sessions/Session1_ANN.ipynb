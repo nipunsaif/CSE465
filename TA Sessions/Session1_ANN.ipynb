{
 "cells": [
  {
   "cell_type": "markdown",
   "metadata": {
    "id": "oR4_65UQSnnm"
   },
   "source": [
    "<font>  This Heart Disease Dataset dates from 1988 and consists of four databases: Cleveland, Hungary, Switzerland, and Long Beach V. It contains 76 attributes, including the predicted attribute, but all published experiments refer to using a subset of 14 of them. The \"target\" field refers to the presence of heart disease in the patient. It is integer valued 0 = no disease and 1 = disease. <h2>  [Dataset link](https://www.kaggle.com/datasets/johnsmith88/heart-disease-dataset) </h2>"
   ]
  },
  {
   "cell_type": "code",
   "execution_count": 1,
   "metadata": {
    "id": "cw6k4-nwRvXl"
   },
   "outputs": [],
   "source": [
    "data_path= 'heart.csv'"
   ]
  },
  {
   "cell_type": "code",
   "execution_count": 3,
   "metadata": {
    "colab": {
     "base_uri": "https://localhost:8080/",
     "height": 423
    },
    "id": "dXiKK0LYR03Q",
    "outputId": "d8789515-6c9a-4865-89cc-592d3a1efa63"
   },
   "outputs": [
    {
     "data": {
      "text/html": [
       "<div>\n",
       "<style scoped>\n",
       "    .dataframe tbody tr th:only-of-type {\n",
       "        vertical-align: middle;\n",
       "    }\n",
       "\n",
       "    .dataframe tbody tr th {\n",
       "        vertical-align: top;\n",
       "    }\n",
       "\n",
       "    .dataframe thead th {\n",
       "        text-align: right;\n",
       "    }\n",
       "</style>\n",
       "<table border=\"1\" class=\"dataframe\">\n",
       "  <thead>\n",
       "    <tr style=\"text-align: right;\">\n",
       "      <th></th>\n",
       "      <th>age</th>\n",
       "      <th>sex</th>\n",
       "      <th>cp</th>\n",
       "      <th>trestbps</th>\n",
       "      <th>chol</th>\n",
       "      <th>fbs</th>\n",
       "      <th>restecg</th>\n",
       "      <th>thalach</th>\n",
       "      <th>exang</th>\n",
       "      <th>oldpeak</th>\n",
       "      <th>slope</th>\n",
       "      <th>ca</th>\n",
       "      <th>thal</th>\n",
       "      <th>target</th>\n",
       "    </tr>\n",
       "  </thead>\n",
       "  <tbody>\n",
       "    <tr>\n",
       "      <th>0</th>\n",
       "      <td>52</td>\n",
       "      <td>1</td>\n",
       "      <td>0</td>\n",
       "      <td>125</td>\n",
       "      <td>212</td>\n",
       "      <td>0</td>\n",
       "      <td>1</td>\n",
       "      <td>168</td>\n",
       "      <td>0</td>\n",
       "      <td>1.0</td>\n",
       "      <td>2</td>\n",
       "      <td>2</td>\n",
       "      <td>3</td>\n",
       "      <td>0</td>\n",
       "    </tr>\n",
       "    <tr>\n",
       "      <th>1</th>\n",
       "      <td>53</td>\n",
       "      <td>1</td>\n",
       "      <td>0</td>\n",
       "      <td>140</td>\n",
       "      <td>203</td>\n",
       "      <td>1</td>\n",
       "      <td>0</td>\n",
       "      <td>155</td>\n",
       "      <td>1</td>\n",
       "      <td>3.1</td>\n",
       "      <td>0</td>\n",
       "      <td>0</td>\n",
       "      <td>3</td>\n",
       "      <td>0</td>\n",
       "    </tr>\n",
       "    <tr>\n",
       "      <th>2</th>\n",
       "      <td>70</td>\n",
       "      <td>1</td>\n",
       "      <td>0</td>\n",
       "      <td>145</td>\n",
       "      <td>174</td>\n",
       "      <td>0</td>\n",
       "      <td>1</td>\n",
       "      <td>125</td>\n",
       "      <td>1</td>\n",
       "      <td>2.6</td>\n",
       "      <td>0</td>\n",
       "      <td>0</td>\n",
       "      <td>3</td>\n",
       "      <td>0</td>\n",
       "    </tr>\n",
       "    <tr>\n",
       "      <th>3</th>\n",
       "      <td>61</td>\n",
       "      <td>1</td>\n",
       "      <td>0</td>\n",
       "      <td>148</td>\n",
       "      <td>203</td>\n",
       "      <td>0</td>\n",
       "      <td>1</td>\n",
       "      <td>161</td>\n",
       "      <td>0</td>\n",
       "      <td>0.0</td>\n",
       "      <td>2</td>\n",
       "      <td>1</td>\n",
       "      <td>3</td>\n",
       "      <td>0</td>\n",
       "    </tr>\n",
       "    <tr>\n",
       "      <th>4</th>\n",
       "      <td>62</td>\n",
       "      <td>0</td>\n",
       "      <td>0</td>\n",
       "      <td>138</td>\n",
       "      <td>294</td>\n",
       "      <td>1</td>\n",
       "      <td>1</td>\n",
       "      <td>106</td>\n",
       "      <td>0</td>\n",
       "      <td>1.9</td>\n",
       "      <td>1</td>\n",
       "      <td>3</td>\n",
       "      <td>2</td>\n",
       "      <td>0</td>\n",
       "    </tr>\n",
       "    <tr>\n",
       "      <th>...</th>\n",
       "      <td>...</td>\n",
       "      <td>...</td>\n",
       "      <td>...</td>\n",
       "      <td>...</td>\n",
       "      <td>...</td>\n",
       "      <td>...</td>\n",
       "      <td>...</td>\n",
       "      <td>...</td>\n",
       "      <td>...</td>\n",
       "      <td>...</td>\n",
       "      <td>...</td>\n",
       "      <td>...</td>\n",
       "      <td>...</td>\n",
       "      <td>...</td>\n",
       "    </tr>\n",
       "    <tr>\n",
       "      <th>1020</th>\n",
       "      <td>59</td>\n",
       "      <td>1</td>\n",
       "      <td>1</td>\n",
       "      <td>140</td>\n",
       "      <td>221</td>\n",
       "      <td>0</td>\n",
       "      <td>1</td>\n",
       "      <td>164</td>\n",
       "      <td>1</td>\n",
       "      <td>0.0</td>\n",
       "      <td>2</td>\n",
       "      <td>0</td>\n",
       "      <td>2</td>\n",
       "      <td>1</td>\n",
       "    </tr>\n",
       "    <tr>\n",
       "      <th>1021</th>\n",
       "      <td>60</td>\n",
       "      <td>1</td>\n",
       "      <td>0</td>\n",
       "      <td>125</td>\n",
       "      <td>258</td>\n",
       "      <td>0</td>\n",
       "      <td>0</td>\n",
       "      <td>141</td>\n",
       "      <td>1</td>\n",
       "      <td>2.8</td>\n",
       "      <td>1</td>\n",
       "      <td>1</td>\n",
       "      <td>3</td>\n",
       "      <td>0</td>\n",
       "    </tr>\n",
       "    <tr>\n",
       "      <th>1022</th>\n",
       "      <td>47</td>\n",
       "      <td>1</td>\n",
       "      <td>0</td>\n",
       "      <td>110</td>\n",
       "      <td>275</td>\n",
       "      <td>0</td>\n",
       "      <td>0</td>\n",
       "      <td>118</td>\n",
       "      <td>1</td>\n",
       "      <td>1.0</td>\n",
       "      <td>1</td>\n",
       "      <td>1</td>\n",
       "      <td>2</td>\n",
       "      <td>0</td>\n",
       "    </tr>\n",
       "    <tr>\n",
       "      <th>1023</th>\n",
       "      <td>50</td>\n",
       "      <td>0</td>\n",
       "      <td>0</td>\n",
       "      <td>110</td>\n",
       "      <td>254</td>\n",
       "      <td>0</td>\n",
       "      <td>0</td>\n",
       "      <td>159</td>\n",
       "      <td>0</td>\n",
       "      <td>0.0</td>\n",
       "      <td>2</td>\n",
       "      <td>0</td>\n",
       "      <td>2</td>\n",
       "      <td>1</td>\n",
       "    </tr>\n",
       "    <tr>\n",
       "      <th>1024</th>\n",
       "      <td>54</td>\n",
       "      <td>1</td>\n",
       "      <td>0</td>\n",
       "      <td>120</td>\n",
       "      <td>188</td>\n",
       "      <td>0</td>\n",
       "      <td>1</td>\n",
       "      <td>113</td>\n",
       "      <td>0</td>\n",
       "      <td>1.4</td>\n",
       "      <td>1</td>\n",
       "      <td>1</td>\n",
       "      <td>3</td>\n",
       "      <td>0</td>\n",
       "    </tr>\n",
       "  </tbody>\n",
       "</table>\n",
       "<p>1025 rows × 14 columns</p>\n",
       "</div>"
      ],
      "text/plain": [
       "      age  sex  cp  trestbps  chol  fbs  restecg  thalach  exang  oldpeak  \\\n",
       "0      52    1   0       125   212    0        1      168      0      1.0   \n",
       "1      53    1   0       140   203    1        0      155      1      3.1   \n",
       "2      70    1   0       145   174    0        1      125      1      2.6   \n",
       "3      61    1   0       148   203    0        1      161      0      0.0   \n",
       "4      62    0   0       138   294    1        1      106      0      1.9   \n",
       "...   ...  ...  ..       ...   ...  ...      ...      ...    ...      ...   \n",
       "1020   59    1   1       140   221    0        1      164      1      0.0   \n",
       "1021   60    1   0       125   258    0        0      141      1      2.8   \n",
       "1022   47    1   0       110   275    0        0      118      1      1.0   \n",
       "1023   50    0   0       110   254    0        0      159      0      0.0   \n",
       "1024   54    1   0       120   188    0        1      113      0      1.4   \n",
       "\n",
       "      slope  ca  thal  target  \n",
       "0         2   2     3       0  \n",
       "1         0   0     3       0  \n",
       "2         0   0     3       0  \n",
       "3         2   1     3       0  \n",
       "4         1   3     2       0  \n",
       "...     ...  ..   ...     ...  \n",
       "1020      2   0     2       1  \n",
       "1021      1   1     3       0  \n",
       "1022      1   1     2       0  \n",
       "1023      2   0     2       1  \n",
       "1024      1   1     3       0  \n",
       "\n",
       "[1025 rows x 14 columns]"
      ]
     },
     "execution_count": 3,
     "metadata": {},
     "output_type": "execute_result"
    }
   ],
   "source": [
    "import pandas as pd\n",
    "df= pd.read_csv(data_path)\n",
    "df"
   ]
  },
  {
   "cell_type": "markdown",
   "metadata": {
    "id": "q5pjjkucVY1U"
   },
   "source": [
    "<font color= \"lime\"> <h2> <b> Data Processing"
   ]
  },
  {
   "cell_type": "code",
   "execution_count": 6,
   "metadata": {
    "colab": {
     "base_uri": "https://localhost:8080/",
     "height": 523
    },
    "id": "4J7EI3AnSBDg",
    "outputId": "24cc49a2-3afb-47a6-e7cd-027c8056c394"
   },
   "outputs": [
    {
     "data": {
      "text/plain": [
       "age         0\n",
       "sex         0\n",
       "cp          0\n",
       "trestbps    0\n",
       "chol        0\n",
       "fbs         0\n",
       "restecg     0\n",
       "thalach     0\n",
       "exang       0\n",
       "oldpeak     0\n",
       "slope       0\n",
       "ca          0\n",
       "thal        0\n",
       "target      0\n",
       "dtype: int64"
      ]
     },
     "execution_count": 6,
     "metadata": {},
     "output_type": "execute_result"
    }
   ],
   "source": [
    "df.isnull().sum()"
   ]
  },
  {
   "cell_type": "code",
   "execution_count": 8,
   "metadata": {
    "colab": {
     "base_uri": "https://localhost:8080/"
    },
    "id": "4u2odvxPUNli",
    "outputId": "2bdd6ea4-56da-491e-d888-92b4b8daa943"
   },
   "outputs": [
    {
     "name": "stdout",
     "output_type": "stream",
     "text": [
      "<class 'pandas.core.frame.DataFrame'>\n",
      "RangeIndex: 1025 entries, 0 to 1024\n",
      "Data columns (total 14 columns):\n",
      " #   Column    Non-Null Count  Dtype  \n",
      "---  ------    --------------  -----  \n",
      " 0   age       1025 non-null   int64  \n",
      " 1   sex       1025 non-null   int64  \n",
      " 2   cp        1025 non-null   int64  \n",
      " 3   trestbps  1025 non-null   int64  \n",
      " 4   chol      1025 non-null   int64  \n",
      " 5   fbs       1025 non-null   int64  \n",
      " 6   restecg   1025 non-null   int64  \n",
      " 7   thalach   1025 non-null   int64  \n",
      " 8   exang     1025 non-null   int64  \n",
      " 9   oldpeak   1025 non-null   float64\n",
      " 10  slope     1025 non-null   int64  \n",
      " 11  ca        1025 non-null   int64  \n",
      " 12  thal      1025 non-null   int64  \n",
      " 13  target    1025 non-null   int64  \n",
      "dtypes: float64(1), int64(13)\n",
      "memory usage: 112.2 KB\n"
     ]
    }
   ],
   "source": [
    "df.info()"
   ]
  },
  {
   "cell_type": "code",
   "execution_count": 10,
   "metadata": {
    "colab": {
     "base_uri": "https://localhost:8080/"
    },
    "id": "MSae1CHsTgcX",
    "outputId": "caa7e599-f5eb-4e8d-ced2-bb189b69a13e"
   },
   "outputs": [
    {
     "name": "stdout",
     "output_type": "stream",
     "text": [
      "Column: age\n",
      "[52 53 70 61 62 58 55 46 54 71 43 34 51 50 60 67 45 63 42 44 56 57 59 64\n",
      " 65 41 66 38 49 48 29 37 47 68 76 40 39 77 69 35 74]\n",
      "----------------------------------------\n",
      "Column: sex\n",
      "[1 0]\n",
      "----------------------------------------\n",
      "Column: cp\n",
      "[0 1 2 3]\n",
      "----------------------------------------\n",
      "Column: trestbps\n",
      "[125 140 145 148 138 100 114 160 120 122 112 132 118 128 124 106 104 135\n",
      " 130 136 180 129 150 178 146 117 152 154 170 134 174 144 108 123 110 142\n",
      " 126 192 115  94 200 165 102 105 155 172 164 156 101]\n",
      "----------------------------------------\n",
      "Column: chol\n",
      "[212 203 174 294 248 318 289 249 286 149 341 210 298 204 308 266 244 211\n",
      " 185 223 208 252 209 307 233 319 256 327 169 131 269 196 231 213 271 263\n",
      " 229 360 258 330 342 226 228 278 230 283 241 175 188 217 193 245 232 299\n",
      " 288 197 315 215 164 326 207 177 257 255 187 201 220 268 267 236 303 282\n",
      " 126 309 186 275 281 206 335 218 254 295 417 260 240 302 192 225 325 235\n",
      " 274 234 182 167 172 321 300 199 564 157 304 222 184 354 160 247 239 246\n",
      " 409 293 180 250 221 200 227 243 311 261 242 205 306 219 353 198 394 183\n",
      " 237 224 265 313 340 259 270 216 264 276 322 214 273 253 176 284 305 168\n",
      " 407 290 277 262 195 166 178 141]\n",
      "----------------------------------------\n",
      "Column: fbs\n",
      "[0 1]\n",
      "----------------------------------------\n",
      "Column: restecg\n",
      "[1 0 2]\n",
      "----------------------------------------\n",
      "Column: thalach\n",
      "[168 155 125 161 106 122 140 145 144 116 136 192 156 142 109 162 165 148\n",
      " 172 173 146 179 152 117 115 112 163 147 182 105 150 151 169 166 178 132\n",
      " 160 123 139 111 180 164 202 157 159 170 138 175 158 126 143 141 167  95\n",
      " 190 118 103 181 108 177 134 120 171 149 154 153  88 174 114 195 133  96\n",
      " 124 131 185 194 128 127 186 184 188 130  71 137  99 121 187  97  90 129\n",
      " 113]\n",
      "----------------------------------------\n",
      "Column: exang\n",
      "[0 1]\n",
      "----------------------------------------\n",
      "Column: oldpeak\n",
      "[1.  3.1 2.6 0.  1.9 4.4 0.8 3.2 1.6 3.  0.7 4.2 1.5 2.2 1.1 0.3 0.4 0.6\n",
      " 3.4 2.8 1.2 2.9 3.6 1.4 0.2 2.  5.6 0.9 1.8 6.2 4.  2.5 0.5 0.1 2.1 2.4\n",
      " 3.8 2.3 1.3 3.5]\n",
      "----------------------------------------\n",
      "Column: slope\n",
      "[2 0 1]\n",
      "----------------------------------------\n",
      "Column: ca\n",
      "[2 0 1 3 4]\n",
      "----------------------------------------\n",
      "Column: thal\n",
      "[3 2 1 0]\n",
      "----------------------------------------\n",
      "Column: target\n",
      "[0 1]\n",
      "----------------------------------------\n"
     ]
    }
   ],
   "source": [
    "for col in df.columns:\n",
    "    print(f\"Column: {col}\")\n",
    "    print(df[col].unique())\n",
    "    print(\"-\" * 40)"
   ]
  },
  {
   "cell_type": "code",
   "execution_count": 12,
   "metadata": {
    "id": "NzrcjzVBMNNY"
   },
   "outputs": [],
   "source": [
    "from sklearn.model_selection import train_test_split\n",
    "\n",
    "y = df[\"target\"]\n",
    "X = df.drop('target', axis=1)\n",
    "X_train_val, X_test, y_train_val, y_test = train_test_split(X, y, test_size=0.20, random_state=0)\n",
    "X_train, X_val, y_train, y_val = train_test_split(X_train_val, y_train_val, test_size=0.30, random_state=0)"
   ]
  },
  {
   "cell_type": "code",
   "execution_count": 13,
   "metadata": {
    "colab": {
     "base_uri": "https://localhost:8080/"
    },
    "id": "4Z8csjSPNCCe",
    "outputId": "692c9bdd-7041-40f6-e4ca-2733e2937b73"
   },
   "outputs": [
    {
     "name": "stdout",
     "output_type": "stream",
     "text": [
      "train data shape:  (574, 13) (574,)\n",
      "validation data shape:  (246, 13) (246,)\n",
      "test data shape:  (205, 13) (205,)\n"
     ]
    }
   ],
   "source": [
    "print(\"train data shape: \", X_train.shape, y_train.shape)\n",
    "print(\"validation data shape: \", X_val.shape, y_val.shape)\n",
    "print(\"test data shape: \", X_test.shape, y_test.shape)"
   ]
  },
  {
   "cell_type": "code",
   "execution_count": 16,
   "metadata": {
    "id": "ExxIJrh2WAIf"
   },
   "outputs": [],
   "source": [
    "from sklearn.preprocessing import StandardScaler\n",
    "\n",
    "scaler = StandardScaler()\n",
    "X_train_scaled = scaler.fit_transform(X_train)\n",
    "X_test_scaled = scaler.transform(X_test)\n",
    "X_val_scaled= scaler.transform(X_val)"
   ]
  },
  {
   "cell_type": "markdown",
   "metadata": {
    "id": "Q6bg9jBLWS2f"
   },
   "source": [
    "<font color= \"lime\"> <h2> <b> Neural Network"
   ]
  },
  {
   "cell_type": "code",
   "execution_count": 19,
   "metadata": {
    "id": "vt2XJKIoWSRx"
   },
   "outputs": [
    {
     "ename": "ModuleNotFoundError",
     "evalue": "No module named 'torch'",
     "output_type": "error",
     "traceback": [
      "\u001b[1;31m---------------------------------------------------------------------------\u001b[0m",
      "\u001b[1;31mModuleNotFoundError\u001b[0m                       Traceback (most recent call last)",
      "Cell \u001b[1;32mIn[19], line 1\u001b[0m\n\u001b[1;32m----> 1\u001b[0m \u001b[38;5;28;01mimport\u001b[39;00m \u001b[38;5;21;01mtorch\u001b[39;00m\n\u001b[0;32m      2\u001b[0m \u001b[38;5;28;01mimport\u001b[39;00m \u001b[38;5;21;01mtorch\u001b[39;00m\u001b[38;5;21;01m.\u001b[39;00m\u001b[38;5;21;01mnn\u001b[39;00m \u001b[38;5;28;01mas\u001b[39;00m \u001b[38;5;21;01mnn\u001b[39;00m\n\u001b[0;32m      3\u001b[0m \u001b[38;5;28;01mimport\u001b[39;00m \u001b[38;5;21;01mtorch\u001b[39;00m\u001b[38;5;21;01m.\u001b[39;00m\u001b[38;5;21;01moptim\u001b[39;00m \u001b[38;5;28;01mas\u001b[39;00m \u001b[38;5;21;01moptim\u001b[39;00m\n",
      "\u001b[1;31mModuleNotFoundError\u001b[0m: No module named 'torch'"
     ]
    }
   ],
   "source": [
    "import torch\n",
    "import torch.nn as nn\n",
    "import torch.optim as optim\n",
    "from torch.utils.data import DataLoader, TensorDataset\n",
    "from sklearn.metrics import accuracy_score"
   ]
  },
  {
   "cell_type": "code",
   "execution_count": null,
   "metadata": {
    "id": "PO2c5QAcYYJ1"
   },
   "outputs": [],
   "source": [
    "X_train_tensor = torch.tensor(X_train_scaled, dtype=torch.float32)\n",
    "X_test_tensor = torch.tensor(X_test_scaled, dtype=torch.float32)\n",
    "y_train_tensor = torch.tensor(y_train.values, dtype=torch.float32).unsqueeze(1)  # For binary classification, convert (N,) to (N, 1)\n",
    "y_test_tensor = torch.tensor(y_test.values, dtype=torch.float32).unsqueeze(1)\n",
    "X_val_tensor = torch.tensor(X_val_scaled, dtype=torch.float32)\n",
    "y_val_tensor = torch.tensor(y_val.values, dtype=torch.float32).unsqueeze(1)"
   ]
  },
  {
   "cell_type": "code",
   "execution_count": 22,
   "metadata": {
    "id": "AWCZXQpbYfSO"
   },
   "outputs": [
    {
     "ename": "NameError",
     "evalue": "name 'nn' is not defined",
     "output_type": "error",
     "traceback": [
      "\u001b[1;31m---------------------------------------------------------------------------\u001b[0m",
      "\u001b[1;31mNameError\u001b[0m                                 Traceback (most recent call last)",
      "Cell \u001b[1;32mIn[22], line 1\u001b[0m\n\u001b[1;32m----> 1\u001b[0m \u001b[38;5;28;01mclass\u001b[39;00m \u001b[38;5;21;01mCustomNN\u001b[39;00m(nn\u001b[38;5;241m.\u001b[39mModule):\n\u001b[0;32m      2\u001b[0m     \u001b[38;5;28;01mdef\u001b[39;00m \u001b[38;5;21m__init__\u001b[39m(\u001b[38;5;28mself\u001b[39m, input_dim):\n\u001b[0;32m      3\u001b[0m         \u001b[38;5;28msuper\u001b[39m(CustomNN, \u001b[38;5;28mself\u001b[39m)\u001b[38;5;241m.\u001b[39m\u001b[38;5;21m__init__\u001b[39m()      \u001b[38;5;66;03m# calls the constructor of the parent class\u001b[39;00m\n",
      "\u001b[1;31mNameError\u001b[0m: name 'nn' is not defined"
     ]
    }
   ],
   "source": [
    "class CustomNN(nn.Module):\n",
    "    def __init__(self, input_dim):\n",
    "        super(CustomNN, self).__init__()      # calls the constructor of the parent class\n",
    "\n",
    "        # Define the layers\n",
    "        self.fc1 = nn.Linear(input_dim, 64)  # First hidden layer\n",
    "        self.fc2 = nn.Linear(64, 128)        # Second hidden layer\n",
    "        self.fc3 = nn.Linear(128, 64)        # Third hidden layer\n",
    "        self.fc4 = nn.Linear(64, 1)          # Output layer (binary classification)\n",
    "\n",
    "        # Define activation and dropout\n",
    "        self.relu = nn.ReLU()\n",
    "        self.dropout = nn.Dropout(0.3)       # Dropout to prevent overfitting     #  neurons are temporarily set to zero (ignoring those neurons)\n",
    "        self.sigmoid = nn.Sigmoid()          # For binary classification\n",
    "\n",
    "    def forward(self, x):\n",
    "\n",
    "        x = self.relu(self.fc1(x))\n",
    "        x = self.dropout(x)\n",
    "\n",
    "        x = self.relu(self.fc2(x))\n",
    "        x = self.dropout(x)\n",
    "\n",
    "        x = self.relu(self.fc3(x))\n",
    "        x = self.dropout(x)\n",
    "\n",
    "        x = self.sigmoid(self.fc4(x))\n",
    "        return x\n"
   ]
  },
  {
   "cell_type": "markdown",
   "metadata": {
    "id": "lItrvUWDP1zF"
   },
   "source": [
    "<font color= \"lime\"> <h2> <b> Loss function and Optimizer"
   ]
  },
  {
   "cell_type": "code",
   "execution_count": null,
   "metadata": {
    "id": "uPUrSBBzZPeO"
   },
   "outputs": [],
   "source": [
    "input_dim = X_train_tensor.shape[1]  # .shape will return (samples,features)\n",
    "model = CustomNN(input_dim)\n",
    "\n",
    "\n",
    "loss_fn = nn.BCELoss()  # Binary Cross-Entropy Loss for binary classification\n",
    "optimizer = optim.SGD(model.parameters(), lr=0.01, momentum=0.9)\n",
    "# optimizer = optim.Adam(model.parameters(), lr=0.001)"
   ]
  },
  {
   "cell_type": "markdown",
   "metadata": {
    "id": "Q1d04ClxP_un"
   },
   "source": [
    "<font color= \"lime\"> <h2> <b> Dataloader"
   ]
  },
  {
   "cell_type": "code",
   "execution_count": null,
   "metadata": {
    "id": "o6iibF2OZVQ1"
   },
   "outputs": [],
   "source": [
    "train_dataset = TensorDataset(X_train_tensor, y_train_tensor)       # tensordataset is a PyTorch utility that allows you to wrap tensors into a dataset\n",
    "test_dataset = TensorDataset(X_test_tensor, y_test_tensor)          # useful when using a DataLoader\n",
    "val_dataset = TensorDataset(X_val_tensor, y_val_tensor)\n",
    "                                                                    # You can create your own dataset by using torch.utils.data.Dataset\n",
    "train_loader = DataLoader(train_dataset, batch_size=32, shuffle=True)\n",
    "val_loader= DataLoader(val_dataset, batch_size=32)\n",
    "test_loader = DataLoader(test_dataset, batch_size=32)"
   ]
  },
  {
   "cell_type": "markdown",
   "metadata": {
    "id": "DpQyA-1DQE6W"
   },
   "source": [
    "<font color= \"lime\"> <h2> <b> Training"
   ]
  },
  {
   "cell_type": "code",
   "execution_count": null,
   "metadata": {
    "colab": {
     "base_uri": "https://localhost:8080/"
    },
    "id": "xKo9IhDDHAFs",
    "outputId": "a26a5339-fca6-45e2-b66e-16a20a48a6dd"
   },
   "outputs": [
    {
     "name": "stdout",
     "output_type": "stream",
     "text": [
      "Epoch [1/150], Train Loss: 0.6914, Val Loss: 0.6901, Train Accuracy: 50.70%, Val Accuracy: 59.76%\n",
      "Epoch [2/150], Train Loss: 0.6866, Val Loss: 0.6821, Train Accuracy: 56.62%, Val Accuracy: 65.04%\n",
      "Epoch [3/150], Train Loss: 0.6787, Val Loss: 0.6681, Train Accuracy: 60.63%, Val Accuracy: 73.98%\n",
      "Epoch [4/150], Train Loss: 0.6608, Val Loss: 0.6420, Train Accuracy: 70.03%, Val Accuracy: 78.46%\n",
      "Epoch [5/150], Train Loss: 0.6349, Val Loss: 0.5969, Train Accuracy: 73.34%, Val Accuracy: 80.49%\n",
      "Epoch [6/150], Train Loss: 0.5716, Val Loss: 0.5165, Train Accuracy: 77.70%, Val Accuracy: 84.55%\n",
      "Epoch [7/150], Train Loss: 0.5028, Val Loss: 0.4258, Train Accuracy: 82.75%, Val Accuracy: 83.74%\n",
      "Epoch [8/150], Train Loss: 0.4460, Val Loss: 0.3716, Train Accuracy: 82.58%, Val Accuracy: 85.77%\n",
      "Epoch [9/150], Train Loss: 0.4252, Val Loss: 0.3525, Train Accuracy: 81.88%, Val Accuracy: 86.18%\n",
      "Epoch [10/150], Train Loss: 0.3872, Val Loss: 0.3481, Train Accuracy: 82.40%, Val Accuracy: 85.77%\n",
      "Epoch [11/150], Train Loss: 0.3942, Val Loss: 0.3346, Train Accuracy: 83.62%, Val Accuracy: 86.18%\n",
      "Epoch [12/150], Train Loss: 0.3894, Val Loss: 0.3217, Train Accuracy: 84.32%, Val Accuracy: 86.99%\n",
      "Epoch [13/150], Train Loss: 0.3649, Val Loss: 0.3157, Train Accuracy: 85.02%, Val Accuracy: 86.59%\n",
      "Epoch [14/150], Train Loss: 0.3878, Val Loss: 0.3205, Train Accuracy: 84.32%, Val Accuracy: 88.21%\n",
      "Epoch [15/150], Train Loss: 0.3677, Val Loss: 0.3069, Train Accuracy: 84.32%, Val Accuracy: 86.99%\n",
      "Epoch [16/150], Train Loss: 0.3250, Val Loss: 0.3162, Train Accuracy: 87.28%, Val Accuracy: 89.43%\n",
      "Epoch [17/150], Train Loss: 0.3438, Val Loss: 0.3042, Train Accuracy: 85.37%, Val Accuracy: 87.40%\n",
      "Epoch [18/150], Train Loss: 0.3309, Val Loss: 0.2946, Train Accuracy: 87.28%, Val Accuracy: 88.62%\n",
      "Epoch [19/150], Train Loss: 0.3271, Val Loss: 0.2853, Train Accuracy: 87.46%, Val Accuracy: 88.21%\n",
      "Epoch [20/150], Train Loss: 0.3182, Val Loss: 0.2834, Train Accuracy: 87.63%, Val Accuracy: 88.62%\n",
      "Epoch [21/150], Train Loss: 0.3202, Val Loss: 0.2906, Train Accuracy: 87.46%, Val Accuracy: 88.62%\n",
      "Epoch [22/150], Train Loss: 0.3190, Val Loss: 0.2810, Train Accuracy: 87.28%, Val Accuracy: 89.43%\n",
      "Epoch [23/150], Train Loss: 0.2851, Val Loss: 0.2725, Train Accuracy: 87.98%, Val Accuracy: 89.43%\n",
      "Epoch [24/150], Train Loss: 0.2657, Val Loss: 0.2680, Train Accuracy: 89.37%, Val Accuracy: 88.62%\n",
      "Epoch [25/150], Train Loss: 0.2668, Val Loss: 0.2600, Train Accuracy: 88.85%, Val Accuracy: 88.62%\n",
      "Epoch [26/150], Train Loss: 0.2857, Val Loss: 0.2577, Train Accuracy: 88.33%, Val Accuracy: 89.02%\n",
      "Epoch [27/150], Train Loss: 0.2913, Val Loss: 0.2610, Train Accuracy: 89.90%, Val Accuracy: 89.43%\n",
      "Epoch [28/150], Train Loss: 0.2808, Val Loss: 0.2465, Train Accuracy: 90.07%, Val Accuracy: 90.24%\n",
      "Epoch [29/150], Train Loss: 0.2742, Val Loss: 0.2450, Train Accuracy: 90.59%, Val Accuracy: 89.84%\n",
      "Epoch [30/150], Train Loss: 0.2412, Val Loss: 0.2429, Train Accuracy: 90.77%, Val Accuracy: 90.24%\n",
      "Epoch [31/150], Train Loss: 0.2440, Val Loss: 0.2489, Train Accuracy: 90.59%, Val Accuracy: 90.24%\n",
      "Epoch [32/150], Train Loss: 0.2748, Val Loss: 0.2361, Train Accuracy: 90.24%, Val Accuracy: 90.24%\n",
      "Epoch [33/150], Train Loss: 0.2482, Val Loss: 0.2317, Train Accuracy: 91.11%, Val Accuracy: 90.65%\n",
      "Epoch [34/150], Train Loss: 0.2491, Val Loss: 0.2244, Train Accuracy: 89.20%, Val Accuracy: 91.06%\n",
      "Epoch [35/150], Train Loss: 0.2416, Val Loss: 0.2196, Train Accuracy: 92.33%, Val Accuracy: 90.65%\n",
      "Epoch [36/150], Train Loss: 0.2423, Val Loss: 0.2177, Train Accuracy: 91.29%, Val Accuracy: 90.65%\n",
      "Epoch [37/150], Train Loss: 0.2301, Val Loss: 0.2158, Train Accuracy: 92.16%, Val Accuracy: 90.65%\n",
      "Epoch [38/150], Train Loss: 0.2125, Val Loss: 0.2091, Train Accuracy: 93.21%, Val Accuracy: 91.87%\n",
      "Epoch [39/150], Train Loss: 0.2249, Val Loss: 0.2043, Train Accuracy: 91.64%, Val Accuracy: 91.87%\n",
      "Epoch [40/150], Train Loss: 0.2300, Val Loss: 0.2055, Train Accuracy: 90.59%, Val Accuracy: 91.46%\n",
      "Epoch [41/150], Train Loss: 0.2342, Val Loss: 0.1916, Train Accuracy: 91.64%, Val Accuracy: 91.46%\n",
      "Epoch [42/150], Train Loss: 0.2359, Val Loss: 0.1881, Train Accuracy: 91.46%, Val Accuracy: 92.28%\n",
      "Epoch [43/150], Train Loss: 0.1953, Val Loss: 0.1898, Train Accuracy: 92.51%, Val Accuracy: 92.28%\n",
      "Epoch [44/150], Train Loss: 0.1899, Val Loss: 0.1814, Train Accuracy: 93.03%, Val Accuracy: 91.46%\n",
      "Epoch [45/150], Train Loss: 0.2129, Val Loss: 0.1805, Train Accuracy: 92.51%, Val Accuracy: 92.28%\n",
      "Epoch [46/150], Train Loss: 0.1965, Val Loss: 0.1742, Train Accuracy: 93.21%, Val Accuracy: 91.46%\n",
      "Epoch [47/150], Train Loss: 0.2144, Val Loss: 0.1691, Train Accuracy: 92.68%, Val Accuracy: 91.46%\n",
      "Epoch [48/150], Train Loss: 0.1920, Val Loss: 0.1627, Train Accuracy: 93.55%, Val Accuracy: 93.90%\n",
      "Epoch [49/150], Train Loss: 0.2094, Val Loss: 0.1751, Train Accuracy: 91.29%, Val Accuracy: 91.87%\n",
      "Epoch [50/150], Train Loss: 0.2024, Val Loss: 0.1668, Train Accuracy: 91.46%, Val Accuracy: 92.28%\n",
      "Epoch [51/150], Train Loss: 0.1930, Val Loss: 0.1599, Train Accuracy: 93.03%, Val Accuracy: 93.50%\n",
      "Epoch [52/150], Train Loss: 0.1750, Val Loss: 0.1611, Train Accuracy: 94.08%, Val Accuracy: 92.68%\n",
      "Epoch [53/150], Train Loss: 0.1891, Val Loss: 0.1563, Train Accuracy: 93.90%, Val Accuracy: 93.09%\n",
      "Epoch [54/150], Train Loss: 0.1571, Val Loss: 0.1534, Train Accuracy: 94.08%, Val Accuracy: 92.68%\n",
      "Epoch [55/150], Train Loss: 0.1591, Val Loss: 0.1390, Train Accuracy: 94.95%, Val Accuracy: 92.68%\n",
      "Epoch [56/150], Train Loss: 0.1883, Val Loss: 0.1400, Train Accuracy: 93.55%, Val Accuracy: 92.68%\n",
      "Epoch [57/150], Train Loss: 0.1561, Val Loss: 0.1318, Train Accuracy: 94.25%, Val Accuracy: 94.72%\n",
      "Epoch [58/150], Train Loss: 0.1451, Val Loss: 0.1304, Train Accuracy: 94.95%, Val Accuracy: 94.72%\n",
      "Epoch [59/150], Train Loss: 0.1642, Val Loss: 0.1325, Train Accuracy: 92.86%, Val Accuracy: 94.72%\n",
      "Epoch [60/150], Train Loss: 0.1565, Val Loss: 0.1253, Train Accuracy: 94.08%, Val Accuracy: 94.72%\n",
      "Epoch [61/150], Train Loss: 0.1623, Val Loss: 0.1189, Train Accuracy: 93.55%, Val Accuracy: 95.12%\n",
      "Epoch [62/150], Train Loss: 0.1334, Val Loss: 0.1226, Train Accuracy: 94.60%, Val Accuracy: 93.90%\n",
      "Epoch [63/150], Train Loss: 0.1391, Val Loss: 0.1148, Train Accuracy: 94.60%, Val Accuracy: 95.53%\n",
      "Epoch [64/150], Train Loss: 0.1548, Val Loss: 0.1112, Train Accuracy: 94.43%, Val Accuracy: 95.12%\n",
      "Epoch [65/150], Train Loss: 0.1487, Val Loss: 0.1224, Train Accuracy: 94.43%, Val Accuracy: 93.09%\n",
      "Epoch [66/150], Train Loss: 0.1554, Val Loss: 0.1163, Train Accuracy: 94.77%, Val Accuracy: 95.53%\n",
      "Epoch [67/150], Train Loss: 0.1265, Val Loss: 0.1159, Train Accuracy: 94.77%, Val Accuracy: 94.72%\n",
      "Epoch [68/150], Train Loss: 0.1535, Val Loss: 0.1102, Train Accuracy: 94.43%, Val Accuracy: 96.34%\n",
      "Epoch [69/150], Train Loss: 0.1545, Val Loss: 0.0999, Train Accuracy: 94.60%, Val Accuracy: 95.53%\n",
      "Epoch [70/150], Train Loss: 0.1405, Val Loss: 0.1006, Train Accuracy: 94.43%, Val Accuracy: 95.93%\n",
      "Epoch [71/150], Train Loss: 0.1645, Val Loss: 0.1063, Train Accuracy: 93.55%, Val Accuracy: 96.75%\n",
      "Epoch [72/150], Train Loss: 0.1262, Val Loss: 0.0970, Train Accuracy: 94.95%, Val Accuracy: 95.93%\n",
      "Epoch [73/150], Train Loss: 0.1409, Val Loss: 0.0891, Train Accuracy: 94.43%, Val Accuracy: 96.75%\n",
      "Epoch [74/150], Train Loss: 0.1395, Val Loss: 0.0885, Train Accuracy: 94.95%, Val Accuracy: 97.15%\n",
      "Epoch [75/150], Train Loss: 0.1377, Val Loss: 0.0968, Train Accuracy: 95.30%, Val Accuracy: 95.93%\n",
      "Epoch [76/150], Train Loss: 0.1402, Val Loss: 0.0869, Train Accuracy: 94.25%, Val Accuracy: 97.15%\n",
      "Epoch [77/150], Train Loss: 0.1364, Val Loss: 0.0924, Train Accuracy: 94.77%, Val Accuracy: 96.75%\n",
      "Epoch [78/150], Train Loss: 0.1337, Val Loss: 0.0786, Train Accuracy: 94.95%, Val Accuracy: 97.56%\n",
      "Epoch [79/150], Train Loss: 0.1305, Val Loss: 0.0844, Train Accuracy: 95.64%, Val Accuracy: 97.15%\n",
      "Epoch [80/150], Train Loss: 0.1234, Val Loss: 0.0732, Train Accuracy: 94.60%, Val Accuracy: 97.97%\n",
      "Epoch [81/150], Train Loss: 0.1350, Val Loss: 0.0755, Train Accuracy: 94.77%, Val Accuracy: 97.56%\n",
      "Epoch [82/150], Train Loss: 0.1290, Val Loss: 0.0859, Train Accuracy: 95.47%, Val Accuracy: 96.34%\n",
      "Epoch [83/150], Train Loss: 0.1091, Val Loss: 0.0673, Train Accuracy: 94.77%, Val Accuracy: 98.37%\n",
      "Epoch [84/150], Train Loss: 0.1245, Val Loss: 0.0733, Train Accuracy: 94.43%, Val Accuracy: 96.75%\n",
      "Epoch [85/150], Train Loss: 0.1000, Val Loss: 0.0701, Train Accuracy: 96.86%, Val Accuracy: 98.37%\n",
      "Epoch [86/150], Train Loss: 0.1160, Val Loss: 0.0623, Train Accuracy: 94.77%, Val Accuracy: 97.97%\n",
      "Epoch [87/150], Train Loss: 0.1000, Val Loss: 0.0664, Train Accuracy: 96.69%, Val Accuracy: 97.97%\n",
      "Epoch [88/150], Train Loss: 0.1294, Val Loss: 0.0707, Train Accuracy: 94.43%, Val Accuracy: 97.15%\n",
      "Epoch [89/150], Train Loss: 0.1224, Val Loss: 0.0711, Train Accuracy: 94.95%, Val Accuracy: 97.56%\n",
      "Epoch [90/150], Train Loss: 0.1322, Val Loss: 0.0650, Train Accuracy: 95.30%, Val Accuracy: 98.78%\n",
      "Epoch [91/150], Train Loss: 0.1176, Val Loss: 0.0609, Train Accuracy: 95.47%, Val Accuracy: 98.37%\n",
      "Epoch [92/150], Train Loss: 0.1030, Val Loss: 0.0637, Train Accuracy: 96.86%, Val Accuracy: 97.97%\n",
      "Epoch [93/150], Train Loss: 0.1065, Val Loss: 0.0605, Train Accuracy: 96.52%, Val Accuracy: 99.19%\n",
      "Epoch [94/150], Train Loss: 0.1205, Val Loss: 0.0618, Train Accuracy: 95.47%, Val Accuracy: 97.97%\n",
      "Epoch [95/150], Train Loss: 0.0999, Val Loss: 0.0707, Train Accuracy: 95.99%, Val Accuracy: 97.97%\n",
      "Epoch [96/150], Train Loss: 0.1164, Val Loss: 0.0588, Train Accuracy: 95.30%, Val Accuracy: 97.97%\n",
      "Epoch [97/150], Train Loss: 0.0950, Val Loss: 0.0686, Train Accuracy: 96.69%, Val Accuracy: 97.97%\n",
      "Epoch [98/150], Train Loss: 0.1027, Val Loss: 0.0616, Train Accuracy: 95.64%, Val Accuracy: 97.97%\n",
      "Epoch [99/150], Train Loss: 0.0908, Val Loss: 0.0514, Train Accuracy: 95.99%, Val Accuracy: 99.19%\n",
      "Epoch [100/150], Train Loss: 0.1019, Val Loss: 0.0527, Train Accuracy: 95.64%, Val Accuracy: 99.19%\n",
      "Epoch [101/150], Train Loss: 0.1090, Val Loss: 0.0505, Train Accuracy: 96.17%, Val Accuracy: 99.19%\n",
      "Epoch [102/150], Train Loss: 0.0820, Val Loss: 0.0468, Train Accuracy: 97.04%, Val Accuracy: 99.19%\n",
      "Epoch [103/150], Train Loss: 0.0747, Val Loss: 0.0479, Train Accuracy: 97.56%, Val Accuracy: 99.19%\n",
      "Epoch [104/150], Train Loss: 0.0938, Val Loss: 0.0467, Train Accuracy: 96.69%, Val Accuracy: 99.19%\n",
      "Epoch [105/150], Train Loss: 0.0802, Val Loss: 0.0462, Train Accuracy: 97.21%, Val Accuracy: 99.59%\n",
      "Epoch [106/150], Train Loss: 0.1080, Val Loss: 0.0467, Train Accuracy: 96.17%, Val Accuracy: 98.37%\n",
      "Epoch [107/150], Train Loss: 0.0910, Val Loss: 0.0448, Train Accuracy: 97.04%, Val Accuracy: 98.78%\n",
      "Epoch [108/150], Train Loss: 0.0937, Val Loss: 0.0375, Train Accuracy: 97.04%, Val Accuracy: 99.59%\n",
      "Epoch [109/150], Train Loss: 0.0783, Val Loss: 0.0399, Train Accuracy: 97.39%, Val Accuracy: 99.19%\n",
      "Epoch [110/150], Train Loss: 0.0628, Val Loss: 0.0370, Train Accuracy: 97.91%, Val Accuracy: 99.59%\n",
      "Epoch [111/150], Train Loss: 0.0806, Val Loss: 0.0371, Train Accuracy: 97.39%, Val Accuracy: 99.59%\n",
      "Epoch [112/150], Train Loss: 0.0707, Val Loss: 0.0369, Train Accuracy: 97.04%, Val Accuracy: 99.59%\n",
      "Epoch [113/150], Train Loss: 0.0696, Val Loss: 0.0333, Train Accuracy: 97.21%, Val Accuracy: 99.59%\n",
      "Epoch [114/150], Train Loss: 0.0646, Val Loss: 0.0350, Train Accuracy: 98.08%, Val Accuracy: 99.19%\n",
      "Epoch [115/150], Train Loss: 0.0712, Val Loss: 0.0355, Train Accuracy: 97.21%, Val Accuracy: 99.19%\n",
      "Epoch [116/150], Train Loss: 0.0666, Val Loss: 0.0292, Train Accuracy: 97.04%, Val Accuracy: 99.59%\n",
      "Epoch [117/150], Train Loss: 0.0672, Val Loss: 0.0287, Train Accuracy: 97.74%, Val Accuracy: 99.59%\n",
      "Epoch [118/150], Train Loss: 0.0844, Val Loss: 0.0251, Train Accuracy: 96.86%, Val Accuracy: 99.59%\n",
      "Epoch [119/150], Train Loss: 0.0654, Val Loss: 0.0267, Train Accuracy: 97.39%, Val Accuracy: 99.59%\n",
      "Epoch [120/150], Train Loss: 0.0634, Val Loss: 0.0268, Train Accuracy: 97.39%, Val Accuracy: 99.59%\n",
      "Epoch [121/150], Train Loss: 0.0787, Val Loss: 0.0348, Train Accuracy: 96.69%, Val Accuracy: 99.19%\n",
      "Epoch [122/150], Train Loss: 0.0603, Val Loss: 0.0305, Train Accuracy: 98.43%, Val Accuracy: 99.59%\n",
      "Epoch [123/150], Train Loss: 0.0896, Val Loss: 0.0313, Train Accuracy: 96.69%, Val Accuracy: 99.59%\n",
      "Epoch [124/150], Train Loss: 0.0590, Val Loss: 0.0354, Train Accuracy: 97.91%, Val Accuracy: 98.78%\n",
      "Epoch [125/150], Train Loss: 0.0790, Val Loss: 0.0290, Train Accuracy: 97.04%, Val Accuracy: 99.59%\n",
      "Epoch [126/150], Train Loss: 0.0725, Val Loss: 0.0326, Train Accuracy: 97.39%, Val Accuracy: 99.59%\n",
      "Epoch [127/150], Train Loss: 0.0675, Val Loss: 0.0301, Train Accuracy: 96.86%, Val Accuracy: 99.59%\n",
      "Epoch [128/150], Train Loss: 0.0455, Val Loss: 0.0284, Train Accuracy: 98.26%, Val Accuracy: 99.59%\n",
      "Epoch [129/150], Train Loss: 0.0574, Val Loss: 0.0276, Train Accuracy: 98.08%, Val Accuracy: 99.59%\n",
      "Epoch [130/150], Train Loss: 0.0699, Val Loss: 0.0274, Train Accuracy: 97.21%, Val Accuracy: 99.59%\n",
      "Epoch [131/150], Train Loss: 0.0771, Val Loss: 0.0321, Train Accuracy: 96.86%, Val Accuracy: 99.59%\n",
      "Epoch [132/150], Train Loss: 0.0691, Val Loss: 0.0260, Train Accuracy: 97.74%, Val Accuracy: 99.59%\n",
      "Epoch [133/150], Train Loss: 0.0693, Val Loss: 0.0236, Train Accuracy: 97.39%, Val Accuracy: 99.59%\n",
      "Epoch [134/150], Train Loss: 0.0735, Val Loss: 0.0249, Train Accuracy: 97.04%, Val Accuracy: 99.59%\n",
      "Epoch [135/150], Train Loss: 0.0801, Val Loss: 0.0259, Train Accuracy: 97.04%, Val Accuracy: 99.59%\n",
      "Epoch [136/150], Train Loss: 0.0665, Val Loss: 0.0255, Train Accuracy: 97.39%, Val Accuracy: 99.59%\n",
      "Epoch [137/150], Train Loss: 0.0607, Val Loss: 0.0281, Train Accuracy: 97.56%, Val Accuracy: 99.59%\n",
      "Epoch [138/150], Train Loss: 0.0521, Val Loss: 0.0234, Train Accuracy: 98.43%, Val Accuracy: 99.59%\n",
      "Epoch [139/150], Train Loss: 0.0731, Val Loss: 0.0262, Train Accuracy: 97.56%, Val Accuracy: 99.59%\n",
      "Epoch [140/150], Train Loss: 0.0600, Val Loss: 0.0209, Train Accuracy: 97.39%, Val Accuracy: 100.00%\n",
      "Epoch [141/150], Train Loss: 0.0725, Val Loss: 0.0192, Train Accuracy: 97.21%, Val Accuracy: 100.00%\n",
      "Epoch [142/150], Train Loss: 0.0590, Val Loss: 0.0281, Train Accuracy: 97.04%, Val Accuracy: 99.59%\n",
      "Epoch [143/150], Train Loss: 0.0542, Val Loss: 0.0185, Train Accuracy: 98.26%, Val Accuracy: 100.00%\n",
      "Epoch [144/150], Train Loss: 0.0618, Val Loss: 0.0188, Train Accuracy: 97.39%, Val Accuracy: 100.00%\n",
      "Epoch [145/150], Train Loss: 0.0476, Val Loss: 0.0164, Train Accuracy: 98.08%, Val Accuracy: 100.00%\n",
      "Epoch [146/150], Train Loss: 0.0617, Val Loss: 0.0270, Train Accuracy: 97.21%, Val Accuracy: 99.59%\n",
      "Epoch [147/150], Train Loss: 0.0476, Val Loss: 0.0176, Train Accuracy: 98.43%, Val Accuracy: 99.59%\n",
      "Epoch [148/150], Train Loss: 0.0351, Val Loss: 0.0179, Train Accuracy: 99.13%, Val Accuracy: 99.59%\n",
      "Epoch [149/150], Train Loss: 0.0408, Val Loss: 0.0161, Train Accuracy: 98.61%, Val Accuracy: 99.59%\n",
      "Epoch [150/150], Train Loss: 0.0433, Val Loss: 0.0190, Train Accuracy: 98.61%, Val Accuracy: 99.59%\n",
      "Best model loaded from epoch with lowest validation loss.\n"
     ]
    },
    {
     "name": "stderr",
     "output_type": "stream",
     "text": [
      "<ipython-input-18-ddbf107e5e2f>:69: FutureWarning: You are using `torch.load` with `weights_only=False` (the current default value), which uses the default pickle module implicitly. It is possible to construct malicious pickle data which will execute arbitrary code during unpickling (See https://github.com/pytorch/pytorch/blob/main/SECURITY.md#untrusted-models for more details). In a future release, the default value for `weights_only` will be flipped to `True`. This limits the functions that could be executed during unpickling. Arbitrary objects will no longer be allowed to be loaded via this mode unless they are explicitly allowlisted by the user via `torch.serialization.add_safe_globals`. We recommend you start setting `weights_only=True` for any use case where you don't have full control of the loaded file. Please open an issue on GitHub for any issues related to this experimental feature.\n",
      "  model.load_state_dict(torch.load('best_model.pth'))\n"
     ]
    }
   ],
   "source": [
    "num_epochs = 150  # Updated to account for potential overfitting scenarios\n",
    "best_val_loss = float('inf')  # To track the best validation loss\n",
    "train_losses = []  # Store training losses\n",
    "val_losses = []  # Store validation losses\n",
    "train_accuracies = []  # Store training accuracies\n",
    "val_accuracies = []  # Store validation accuracies\n",
    "\n",
    "# Loop over the epochs (one complete pass through the entire training dataset)   # example: 1,000 samples & batch size 100 ; no of  steps (batches) = 1000/100 and 1 epoch = 10 steps\n",
    "for epoch in range(num_epochs):\n",
    "    model.train()  # Set the model to training mode\n",
    "    running_loss = 0.0\n",
    "    correct_train = 0\n",
    "    total_train = 0\n",
    "\n",
    "    # Training loop\n",
    "    for data in train_loader:                 # train_loader is a DataLoader object (go through batches in the train_loader)\n",
    "        inputs, labels = data                 # unpacks input and it's label\n",
    "        optimizer.zero_grad()                 # clears the old gradients\n",
    "        outputs = model(inputs)               # see model architecture\n",
    "        loss = loss_fn(outputs, labels)       # calculate loss\n",
    "        loss.backward()                       # calculates the gradients\n",
    "        optimizer.step()                      # updates the model's weights based on the computed gradients\n",
    "\n",
    "        running_loss += loss.item()           # total loss for all batches\n",
    "\n",
    "        # Calculate training accuracy\n",
    "        predicted_train = (outputs >= 0.5).float()                    # if output >= 0.5 then 1 else 0\n",
    "        correct_train += (predicted_train == labels).sum().item()     # counts the number of correct predictions across all batches\n",
    "        total_train += labels.size(0)                                 # total number of samples processed so far\n",
    "\n",
    "    train_loss = running_loss / len(train_loader)       # average training loss for the epoch  (total loss/ no of batches)\n",
    "    train_accuracy = correct_train / total_train        # training accuracy for the epoch (total correct / total sample)\n",
    "    train_losses.append(train_loss)\n",
    "    train_accuracies.append(train_accuracy)\n",
    "\n",
    "    # Validation loop\n",
    "    model.eval()  # Set the model to evaluation mode\n",
    "    running_val_loss = 0.0\n",
    "    correct_val = 0\n",
    "    total_val = 0\n",
    "    with torch.no_grad():                       # Disabling gradient calculation (gradients are not tracked & reduce memory consumption)\n",
    "        for data in val_loader:                 # provides batches of validation data\n",
    "            inputs, labels = data\n",
    "            outputs = model(inputs)\n",
    "            loss = loss_fn(outputs, labels)\n",
    "            running_val_loss += loss.item()\n",
    "\n",
    "            # Calculate validation accuracy\n",
    "            predicted_val = (outputs >= 0.5).float()\n",
    "            correct_val += (predicted_val == labels).sum().item()\n",
    "            total_val += labels.size(0)\n",
    "\n",
    "    val_loss = running_val_loss / len(val_loader)\n",
    "    val_accuracy = correct_val / total_val\n",
    "    val_losses.append(val_loss)\n",
    "    val_accuracies.append(val_accuracy)\n",
    "\n",
    "    # Print epoch stats\n",
    "    print(f\"Epoch [{epoch+1}/{num_epochs}], \"\n",
    "          f\"Train Loss: {train_loss:.4f}, Val Loss: {val_loss:.4f}, \"\n",
    "          f\"Train Accuracy: {train_accuracy * 100:.2f}%, Val Accuracy: {val_accuracy * 100:.2f}%\")\n",
    "\n",
    "    # Save the best model\n",
    "    if val_loss < best_val_loss:\n",
    "        best_val_loss = val_loss\n",
    "        torch.save(model.state_dict(), 'best_model.pth')  # Save best weights\n",
    "\n",
    "# After training, load the best model\n",
    "model.load_state_dict(torch.load('best_model.pth'))\n",
    "print(\"Best model loaded from epoch with lowest validation loss.\")\n"
   ]
  },
  {
   "cell_type": "markdown",
   "metadata": {
    "id": "bKEtTC9HQIsu"
   },
   "source": [
    "<font color= \"lime\"> <h2> <b> Plot train vs val loss"
   ]
  },
  {
   "cell_type": "code",
   "execution_count": null,
   "metadata": {
    "colab": {
     "base_uri": "https://localhost:8080/",
     "height": 472
    },
    "id": "Zz4_dZAuLF6A",
    "outputId": "2c6d1901-5093-461a-8198-15dbd679f7e4"
   },
   "outputs": [
    {
     "data": {
      "image/png": "[encoded data removed]",
      "text/plain": [
       "<Figure size 640x480 with 1 Axes>"
      ]
     },
     "metadata": {},
     "output_type": "display_data"
    }
   ],
   "source": [
    "import matplotlib.pyplot as plt\n",
    "\n",
    "\n",
    "plt.plot(train_losses, label='Train Loss')\n",
    "plt.plot(val_losses, label='Validation Loss')\n",
    "plt.title('Train vs Validation Loss')\n",
    "plt.xlabel('Epochs')\n",
    "plt.ylabel('Loss')\n",
    "plt.legend()\n",
    "plt.show()"
   ]
  },
  {
   "cell_type": "markdown",
   "metadata": {
    "id": "FJz9X7_IQP5l"
   },
   "source": [
    "<font color= \"lime\"> <h2> <b> Testing"
   ]
  },
  {
   "cell_type": "code",
   "execution_count": null,
   "metadata": {
    "colab": {
     "base_uri": "https://localhost:8080/",
     "height": 544
    },
    "id": "1B7Yxwwz-58j",
    "outputId": "28d7fbb1-8f65-4992-c0cd-64eae2de0c98"
   },
   "outputs": [
    {
     "name": "stderr",
     "output_type": "stream",
     "text": [
      "<ipython-input-20-5f22e6914cfe>:6: FutureWarning: You are using `torch.load` with `weights_only=False` (the current default value), which uses the default pickle module implicitly. It is possible to construct malicious pickle data which will execute arbitrary code during unpickling (See https://github.com/pytorch/pytorch/blob/main/SECURITY.md#untrusted-models for more details). In a future release, the default value for `weights_only` will be flipped to `True`. This limits the functions that could be executed during unpickling. Arbitrary objects will no longer be allowed to be loaded via this mode unless they are explicitly allowlisted by the user via `torch.serialization.add_safe_globals`. We recommend you start setting `weights_only=True` for any use case where you don't have full control of the loaded file. Please open an issue on GitHub for any issues related to this experimental feature.\n",
      "  model.load_state_dict(torch.load('best_model.pth'))\n"
     ]
    },
    {
     "name": "stdout",
     "output_type": "stream",
     "text": [
      "Test Loss: 0.0271, Test Accuracy: 99.02%\n"
     ]
    },
    {
     "data": {
      "image/png": "[encoded data removed]",
      "text/plain": [
       "<Figure size 640x480 with 2 Axes>"
      ]
     },
     "metadata": {},
     "output_type": "display_data"
    }
   ],
   "source": [
    "import torch\n",
    "from sklearn.metrics import confusion_matrix, ConfusionMatrixDisplay\n",
    "import matplotlib.pyplot as plt\n",
    "\n",
    "\n",
    "model.load_state_dict(torch.load('best_model.pth'))\n",
    "model.eval()  # Set the model to evaluation mode\n",
    "\n",
    "test_loss = 0.0\n",
    "correct_test = 0\n",
    "total_test = 0\n",
    "\n",
    "# Lists to store true labels and predictions for the confusion matrix\n",
    "all_labels = []\n",
    "all_predictions = []\n",
    "\n",
    "# Testing loop\n",
    "with torch.no_grad():\n",
    "    for data in test_loader:\n",
    "        inputs, labels = data\n",
    "        outputs = model(inputs)\n",
    "        loss = loss_fn(outputs, labels)\n",
    "        test_loss += loss.item()\n",
    "\n",
    "        # Calculate test accuracy\n",
    "        predicted_test = (outputs >= 0.5).float()\n",
    "\n",
    "        # Store true labels and predicted labels\n",
    "        all_labels.extend(labels.numpy())\n",
    "        all_predictions.extend(predicted_test.numpy())\n",
    "\n",
    "        correct_test += (predicted_test == labels).sum().item()\n",
    "        total_test += labels.size(0)\n",
    "\n",
    "# Calculate average test loss and accuracy\n",
    "average_test_loss = test_loss / len(test_loader)\n",
    "test_accuracy = correct_test / total_test\n",
    "\n",
    "# Print test results\n",
    "print(f\"Test Loss: {average_test_loss:.4f}, Test Accuracy: {test_accuracy * 100:.2f}%\")\n",
    "\n",
    "# Calculate and display confusion matrix\n",
    "conf_matrix = confusion_matrix(all_labels, all_predictions)\n",
    "disp = ConfusionMatrixDisplay(confusion_matrix=conf_matrix)\n",
    "\n",
    "# Plot the confusion matrix\n",
    "disp.plot(cmap=plt.cm.Blues)\n",
    "plt.title('Confusion Matrix')\n",
    "plt.show()"
   ]
  }
 ],
 "metadata": {
  "accelerator": "GPU",
  "colab": {
   "gpuType": "T4",
   "provenance": []
  },
  "kernelspec": {
   "display_name": "Python 3 (ipykernel)",
   "language": "python",
   "name": "python3"
  },
  "language_info": {
   "codemirror_mode": {
    "name": "ipython",
    "version": 3
   },
   "file_extension": ".py",
   "mimetype": "text/x-python",
   "name": "python",
   "nbconvert_exporter": "python",
   "pygments_lexer": "ipython3",
   "version": "3.12.4"
  }
 },
 "nbformat": 4,
 "nbformat_minor": 4
}
